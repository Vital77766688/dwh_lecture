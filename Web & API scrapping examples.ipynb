{
 "cells": [
  {
   "cell_type": "code",
   "execution_count": null,
   "metadata": {
    "ExecuteTime": {
     "end_time": "2020-11-07T13:52:22.981625Z",
     "start_time": "2020-11-07T13:52:22.589072Z"
    }
   },
   "outputs": [],
   "source": [
    "import re\n",
    "import json\n",
    "import requests\n",
    "from bs4 import BeautifulSoup\n",
    "from datetime import datetime\n",
    "import numpy as np\n",
    "import pandas as pd"
   ]
  },
  {
   "cell_type": "markdown",
   "metadata": {},
   "source": [
    "# Парсим HTML\n",
    "\n",
    "Собираем курсы валют с сайта mig.kz"
   ]
  },
  {
   "cell_type": "code",
   "execution_count": null,
   "metadata": {
    "ExecuteTime": {
     "end_time": "2020-11-07T13:52:24.702891Z",
     "start_time": "2020-11-07T13:52:24.698448Z"
    }
   },
   "outputs": [],
   "source": [
    "MIG_URL = \"https://mig.kz/additional#main\""
   ]
  },
  {
   "cell_type": "markdown",
   "metadata": {},
   "source": [
    "## Определяем данные, которые нам нужны\n",
    "\n",
    "* Дата\n",
    "* Обозначение валюты\n",
    "* Название валюты\n",
    "* Курс продажи\n",
    "* Курс покупки"
   ]
  },
  {
   "cell_type": "markdown",
   "metadata": {},
   "source": [
    "## Забираем HTML с сайта"
   ]
  },
  {
   "cell_type": "code",
   "execution_count": null,
   "metadata": {
    "ExecuteTime": {
     "end_time": "2020-11-07T13:52:27.547769Z",
     "start_time": "2020-11-07T13:52:27.041774Z"
    },
    "scrolled": true
   },
   "outputs": [],
   "source": [
    "html = requests.get(MIG_URL).text\n",
    "html"
   ]
  },
  {
   "cell_type": "markdown",
   "metadata": {},
   "source": [
    "## Конвертируем HTML в объект библиотеки BeautifulSoup и находим нужные данне"
   ]
  },
  {
   "cell_type": "code",
   "execution_count": null,
   "metadata": {
    "ExecuteTime": {
     "end_time": "2020-11-07T13:52:34.750441Z",
     "start_time": "2020-11-07T13:52:34.730864Z"
    }
   },
   "outputs": [],
   "source": [
    "\"\"\"\n",
    "Сразу же выбираем div с классом informer-additional, \n",
    "так как в этом блоке содержатся все нужные нам данные\n",
    "\"\"\"\n",
    "\n",
    "soup = BeautifulSoup(html, 'lxml').find('div', 'informer-additional')"
   ]
  },
  {
   "cell_type": "markdown",
   "metadata": {},
   "source": [
    "### Ищем и обрабатываем дату"
   ]
  },
  {
   "cell_type": "code",
   "execution_count": null,
   "metadata": {
    "ExecuteTime": {
     "end_time": "2020-11-07T13:52:37.204379Z",
     "start_time": "2020-11-07T13:52:37.197789Z"
    }
   },
   "outputs": [],
   "source": [
    "date = soup.find('date').text.split()\n",
    "date"
   ]
  },
  {
   "cell_type": "code",
   "execution_count": null,
   "metadata": {
    "ExecuteTime": {
     "end_time": "2020-11-07T13:52:39.626976Z",
     "start_time": "2020-11-07T13:52:39.623753Z"
    }
   },
   "outputs": [],
   "source": [
    "# Создадим справочник для преобразования месяца в дате\n",
    "months = {'января': '01',\n",
    "          'февраля': '02',\n",
    "          'марта': '03',\n",
    "          'апреля': '04',\n",
    "          'мая': '05',\n",
    "          'июня': '06',\n",
    "          'июля': '07',\n",
    "          'августа': '08',\n",
    "          'сентября': '09',\n",
    "          'октября': '10',\n",
    "          'ноября': '11',\n",
    "          'декабря': '12'}"
   ]
  },
  {
   "cell_type": "code",
   "execution_count": null,
   "metadata": {
    "ExecuteTime": {
     "end_time": "2020-11-07T13:52:41.092366Z",
     "start_time": "2020-11-07T13:52:41.088051Z"
    }
   },
   "outputs": [],
   "source": [
    "dt = datetime.strptime(f'{date[3]}{months[date[2]]}{date[1]}{date[4]}', '%Y%m%d%H:%M')\n",
    "dt"
   ]
  },
  {
   "cell_type": "markdown",
   "metadata": {},
   "source": [
    "### Идем по списку валют в таблице и сохраняем данные в словарь"
   ]
  },
  {
   "cell_type": "code",
   "execution_count": null,
   "metadata": {
    "ExecuteTime": {
     "end_time": "2020-11-07T13:52:47.779037Z",
     "start_time": "2020-11-07T13:52:47.760264Z"
    },
    "scrolled": true
   },
   "outputs": [],
   "source": [
    "\"\"\"\n",
    "Внутри \"супа\" находим все строки таблицы (таблица единственная в блоке)\n",
    "Итерируемся по строкам и сохраняем данные в dictionary\n",
    "\"\"\"\n",
    "\n",
    "currencies = {}\n",
    "\n",
    "for row in soup.find_all('tr'):\n",
    "    curr = row.find('td', 'currency')\n",
    "    currency = curr.next_element.strip()\n",
    "    currency_name = curr.find('div', 'description').next_element.strip()\n",
    "    buy = row.find('td', 'buy').text\n",
    "    sell = row.find('td', 'sell').text\n",
    "    currencies[currency] = [currency_name, buy, sell]\n",
    "    \n",
    "currencies"
   ]
  },
  {
   "cell_type": "markdown",
   "metadata": {},
   "source": [
    "### Конвертируем словарь в датафрейм pandas"
   ]
  },
  {
   "cell_type": "code",
   "execution_count": null,
   "metadata": {
    "ExecuteTime": {
     "end_time": "2020-11-07T13:52:53.510645Z",
     "start_time": "2020-11-07T13:52:53.480646Z"
    },
    "scrolled": true
   },
   "outputs": [],
   "source": [
    "df = pd.DataFrame.from_dict(currencies, orient='index', columns=['currency_name', 'buy', 'sell'])\n",
    "df['dt'] = dt\n",
    "df"
   ]
  },
  {
   "cell_type": "markdown",
   "metadata": {},
   "source": [
    "# Парсим API с одностраничных приложений (SPA)\n",
    "\n",
    "Соберем информацию о товарах в ресторане на chocofood.kz"
   ]
  },
  {
   "cell_type": "code",
   "execution_count": null,
   "metadata": {
    "ExecuteTime": {
     "end_time": "2020-11-07T13:53:00.298212Z",
     "start_time": "2020-11-07T13:53:00.295536Z"
    }
   },
   "outputs": [],
   "source": [
    "CHOCOFOOD_URL = \"https://chocofood.kz/ru/almaty/ginger-sushi/menu/\""
   ]
  },
  {
   "cell_type": "markdown",
   "metadata": {},
   "source": [
    "## Определяем данные, которые нам нужны\n",
    "\n",
    "* Категория\n",
    "* Название\n",
    "* Описание\n",
    "* Цена\n",
    "* Картинка"
   ]
  },
  {
   "cell_type": "markdown",
   "metadata": {},
   "source": [
    "## Забираем HTML с сайта"
   ]
  },
  {
   "cell_type": "code",
   "execution_count": null,
   "metadata": {
    "ExecuteTime": {
     "end_time": "2020-11-07T13:53:03.036004Z",
     "start_time": "2020-11-07T13:53:02.969837Z"
    },
    "scrolled": true
   },
   "outputs": [],
   "source": [
    "html = requests.get(CHOCOFOOD_URL).text\n",
    "html"
   ]
  },
  {
   "cell_type": "markdown",
   "metadata": {},
   "source": [
    "## Сайт одностраничный (мало HTML и много JS), ищем API"
   ]
  },
  {
   "cell_type": "code",
   "execution_count": null,
   "metadata": {
    "ExecuteTime": {
     "end_time": "2020-11-07T13:53:12.044166Z",
     "start_time": "2020-11-07T13:53:12.041923Z"
    }
   },
   "outputs": [],
   "source": [
    "CATEGORIES_API = \"https://chocofood.kz/debug-api/ginger-sushi/foodtypes/new/?slug=ginger-sushi&city_slug=almaty&image_size=xxxhdpi\""
   ]
  },
  {
   "cell_type": "code",
   "execution_count": null,
   "metadata": {
    "ExecuteTime": {
     "end_time": "2020-11-07T13:53:12.499090Z",
     "start_time": "2020-11-07T13:53:12.495702Z"
    }
   },
   "outputs": [],
   "source": [
    "FOOD_API = \"https://chocofood.kz/debug-api/ginger-sushi/food_list/modification/?slug=ginger-sushi&city_slug=almaty&image_size=xxxhdpi\""
   ]
  },
  {
   "cell_type": "markdown",
   "metadata": {},
   "source": [
    "## Собираем данные"
   ]
  },
  {
   "cell_type": "markdown",
   "metadata": {},
   "source": [
    "### Собираем категории"
   ]
  },
  {
   "cell_type": "code",
   "execution_count": null,
   "metadata": {
    "ExecuteTime": {
     "end_time": "2020-11-07T13:53:15.218329Z",
     "start_time": "2020-11-07T13:53:15.114701Z"
    }
   },
   "outputs": [],
   "source": [
    "categories = requests.get(CATEGORIES_API).text\n",
    "categories"
   ]
  },
  {
   "cell_type": "code",
   "execution_count": null,
   "metadata": {
    "ExecuteTime": {
     "end_time": "2020-11-07T13:53:18.387875Z",
     "start_time": "2020-11-07T13:53:18.381121Z"
    }
   },
   "outputs": [],
   "source": [
    "categories = json.loads(categories)\n",
    "categories"
   ]
  },
  {
   "cell_type": "markdown",
   "metadata": {
    "ExecuteTime": {
     "end_time": "2020-11-07T07:59:35.534883Z",
     "start_time": "2020-11-07T07:59:35.528861Z"
    }
   },
   "source": [
    "### Собираем продукты"
   ]
  },
  {
   "cell_type": "code",
   "execution_count": null,
   "metadata": {
    "ExecuteTime": {
     "end_time": "2020-11-07T13:53:35.619696Z",
     "start_time": "2020-11-07T13:53:34.719387Z"
    }
   },
   "outputs": [],
   "source": [
    "products = requests.get(FOOD_API).text\n",
    "products"
   ]
  },
  {
   "cell_type": "code",
   "execution_count": null,
   "metadata": {
    "ExecuteTime": {
     "end_time": "2020-11-07T13:53:44.083031Z",
     "start_time": "2020-11-07T13:53:44.021981Z"
    }
   },
   "outputs": [],
   "source": [
    "products = json.loads(products)\n",
    "products"
   ]
  },
  {
   "cell_type": "markdown",
   "metadata": {},
   "source": [
    "### Конвертируем данные в pandas"
   ]
  },
  {
   "cell_type": "code",
   "execution_count": null,
   "metadata": {
    "ExecuteTime": {
     "end_time": "2020-11-07T13:53:55.783591Z",
     "start_time": "2020-11-07T13:53:55.770090Z"
    },
    "scrolled": true
   },
   "outputs": [],
   "source": [
    "\"\"\"\n",
    "Категории\n",
    "\"\"\"\n",
    "\n",
    "df_categories = pd.DataFrame(categories)\n",
    "df_categories = df_categories[['id', 'title']]\n",
    "df_categories.head()"
   ]
  },
  {
   "cell_type": "code",
   "execution_count": null,
   "metadata": {
    "ExecuteTime": {
     "end_time": "2020-11-07T13:53:58.614046Z",
     "start_time": "2020-11-07T13:53:58.600955Z"
    }
   },
   "outputs": [],
   "source": [
    "\"\"\"\n",
    "Продукты\n",
    "\"\"\"\n",
    "\n",
    "df_products = pd.DataFrame(products)\n",
    "df_products = df_products[['id', 'title', 'food_type', 'description', 'price', 'logo']]\n",
    "df_products.head()"
   ]
  },
  {
   "cell_type": "code",
   "execution_count": null,
   "metadata": {
    "ExecuteTime": {
     "end_time": "2020-11-07T13:54:01.803150Z",
     "start_time": "2020-11-07T13:54:01.786545Z"
    }
   },
   "outputs": [],
   "source": [
    "\"\"\"\n",
    "Соединяем категории и продукты\n",
    "\"\"\"\n",
    "\n",
    "df = df_products.merge(df_categories, left_on='food_type', right_on='id')\n",
    "df.drop(['id_x', 'id_y', 'food_type'], axis=1, inplace=True)\n",
    "df = df[['title_x', 'title_y', 'description', 'price', 'logo']]\n",
    "df.columns = ['product_name', 'category', 'description', 'price', 'logo']\n",
    "df.head()"
   ]
  },
  {
   "cell_type": "markdown",
   "metadata": {},
   "source": [
    "### Сохраняем картинки"
   ]
  },
  {
   "cell_type": "code",
   "execution_count": null,
   "metadata": {
    "ExecuteTime": {
     "end_time": "2020-11-07T13:55:49.598525Z",
     "start_time": "2020-11-07T13:55:49.590156Z"
    }
   },
   "outputs": [],
   "source": [
    "def get_image(url:str, name:str) -> str:\n",
    "    \"\"\"\n",
    "    На вход принимаем url и название продукта\n",
    "    \"\"\"\n",
    "    \n",
    "    if url:\n",
    "        # Парсим url\n",
    "        new_url = re.search('https://[a-zA-Z0-9\\.\\/\\-\\_]+\\.\\w+$', url).group(0)\n",
    "        \n",
    "        # Скачиваем картинку\n",
    "        img = requests.get(new_url).content\n",
    "        \n",
    "        # Узнаем расширение файла\n",
    "        ext = re.search('\\.\\w+$', new_url).group(0)\n",
    "        \n",
    "        # Создаем новое имя для картинки из названия продукта и timestamp'а\n",
    "        img_name = f\"{name.lower()}_{datetime.now().strftime('%Y%m%d%H%M%S%f')}{ext}\"\n",
    "        \n",
    "        # Сохраняем файл\n",
    "        with open(f'chocofood_images/{img_name}', 'wb') as file:\n",
    "            file.write(img)\n",
    "        \n",
    "        return img_name\n",
    "    \n",
    "    return None"
   ]
  },
  {
   "cell_type": "code",
   "execution_count": null,
   "metadata": {
    "ExecuteTime": {
     "end_time": "2020-11-07T13:55:39.033151Z",
     "start_time": "2020-11-07T13:55:15.882664Z"
    }
   },
   "outputs": [],
   "source": [
    "df['logo'] = df.apply(lambda x: get_image(x.logo, x.product_name), axis=1)\n",
    "df.head()"
   ]
  },
  {
   "cell_type": "markdown",
   "metadata": {},
   "source": [
    "# Парсим полнеценный API\n",
    "\n",
    "Получаем данные о погоде в Яндексе"
   ]
  },
  {
   "cell_type": "code",
   "execution_count": null,
   "metadata": {
    "ExecuteTime": {
     "end_time": "2020-11-07T13:56:32.573200Z",
     "start_time": "2020-11-07T13:56:32.567480Z"
    }
   },
   "outputs": [],
   "source": [
    "\"\"\"\n",
    "Для использования API Яндекса нужно создать ключ в кабинете разработчика\n",
    "\"\"\"\n",
    "API_KEY = \"f1b7caeb-e80b-4a16-b277-87fcab42ca0d\""
   ]
  },
  {
   "cell_type": "markdown",
   "metadata": {},
   "source": [
    "## Документация API\n",
    "\n",
    "* https://yandex.ru/dev/weather/doc/dg/concepts/forecast-info.html"
   ]
  },
  {
   "cell_type": "markdown",
   "metadata": {},
   "source": [
    "## Формат запроса\n",
    "\n",
    "Населенный пункт указывается при помощи значений широты (параметр lat) и долготы (параметр lon). Если данные параметры заданы некорректно, ответ будет содержать код ошибки 404.\n",
    "\n",
    "<code>GET https://api.weather.yandex.ru/v2/informers?\n",
    " lat=<широта>\n",
    " & lon=<долгота>\n",
    " & [lang=<язык ответа>]\n",
    "X-Yandex-API-Key: <значение ключа></code>"
   ]
  },
  {
   "cell_type": "markdown",
   "metadata": {},
   "source": [
    "## Получаем данные"
   ]
  },
  {
   "cell_type": "code",
   "execution_count": null,
   "metadata": {
    "ExecuteTime": {
     "end_time": "2020-11-07T13:56:37.256842Z",
     "start_time": "2020-11-07T13:56:37.252243Z"
    }
   },
   "outputs": [],
   "source": [
    "YANDEX_URL = \"https://api.weather.yandex.ru/v2/informers\"\n",
    "LAT = 43.254772\n",
    "LON = 76.943244"
   ]
  },
  {
   "cell_type": "markdown",
   "metadata": {},
   "source": [
    "### Готовим заголовки"
   ]
  },
  {
   "cell_type": "code",
   "execution_count": null,
   "metadata": {
    "ExecuteTime": {
     "end_time": "2020-11-07T13:56:38.887265Z",
     "start_time": "2020-11-07T13:56:38.881727Z"
    }
   },
   "outputs": [],
   "source": [
    "headers = {\n",
    "    'X-Yandex-API-Key': API_KEY\n",
    "}"
   ]
  },
  {
   "cell_type": "markdown",
   "metadata": {},
   "source": [
    "### Отправляем запрос"
   ]
  },
  {
   "cell_type": "code",
   "execution_count": null,
   "metadata": {
    "ExecuteTime": {
     "end_time": "2020-11-07T13:56:40.232701Z",
     "start_time": "2020-11-07T13:56:39.876404Z"
    }
   },
   "outputs": [],
   "source": [
    "data = requests.get(f\"{YANDEX_URL}?lat={LAT}&lon={LON}\", headers=headers).text\n",
    "data"
   ]
  },
  {
   "cell_type": "code",
   "execution_count": null,
   "metadata": {
    "ExecuteTime": {
     "end_time": "2020-11-07T13:56:42.131062Z",
     "start_time": "2020-11-07T13:56:42.125727Z"
    },
    "scrolled": true
   },
   "outputs": [],
   "source": [
    "data = json.loads(data)\n",
    "data"
   ]
  },
  {
   "cell_type": "markdown",
   "metadata": {},
   "source": [
    "## Разбираем ответ"
   ]
  },
  {
   "cell_type": "code",
   "execution_count": null,
   "metadata": {
    "ExecuteTime": {
     "end_time": "2020-11-07T13:56:48.169350Z",
     "start_time": "2020-11-07T13:56:48.166238Z"
    }
   },
   "outputs": [],
   "source": [
    "info = data.pop('info')\n",
    "fact = data.pop('fact')\n",
    "forecast = data.pop('forecast')\n",
    "forecast_parts = forecast.pop('parts')"
   ]
  },
  {
   "cell_type": "code",
   "execution_count": null,
   "metadata": {
    "ExecuteTime": {
     "end_time": "2020-11-07T13:56:49.391775Z",
     "start_time": "2020-11-07T13:56:49.387099Z"
    }
   },
   "outputs": [],
   "source": [
    "print('Data')\n",
    "print(data)\n",
    "print('')\n",
    "print('Info')\n",
    "print(info)\n",
    "print('')\n",
    "print('Fact')\n",
    "print(fact)\n",
    "print('')\n",
    "print('Forecast')\n",
    "print(forecast)\n",
    "print('')\n",
    "print('Forecast Parts')\n",
    "print(forecast_parts)"
   ]
  },
  {
   "cell_type": "markdown",
   "metadata": {},
   "source": [
    "## Создаем датафреймы"
   ]
  },
  {
   "cell_type": "markdown",
   "metadata": {},
   "source": [
    "### Текущий"
   ]
  },
  {
   "cell_type": "code",
   "execution_count": null,
   "metadata": {
    "ExecuteTime": {
     "end_time": "2020-11-07T13:57:00.721991Z",
     "start_time": "2020-11-07T13:57:00.716988Z"
    },
    "scrolled": true
   },
   "outputs": [],
   "source": [
    "general = {}\n",
    "general.update(data)\n",
    "general.update(info)\n",
    "general.update(fact)\n",
    "general.update(forecast)\n",
    "general"
   ]
  },
  {
   "cell_type": "code",
   "execution_count": null,
   "metadata": {
    "ExecuteTime": {
     "end_time": "2020-11-07T13:57:22.536201Z",
     "start_time": "2020-11-07T13:57:22.512035Z"
    }
   },
   "outputs": [],
   "source": [
    "df_general = pd.DataFrame.from_dict([general])\n",
    "df_general"
   ]
  },
  {
   "cell_type": "code",
   "execution_count": null,
   "metadata": {
    "ExecuteTime": {
     "end_time": "2020-11-07T13:57:24.625364Z",
     "start_time": "2020-11-07T13:57:24.620620Z"
    }
   },
   "outputs": [],
   "source": [
    "df_general['now'] = df_general['now'].apply(lambda x: datetime.fromtimestamp(x))\n",
    "df_general['obs_time'] = df_general['obs_time'].apply(lambda x: datetime.fromtimestamp(x))"
   ]
  },
  {
   "cell_type": "code",
   "execution_count": null,
   "metadata": {
    "ExecuteTime": {
     "end_time": "2020-11-07T13:57:25.534523Z",
     "start_time": "2020-11-07T13:57:25.529251Z"
    }
   },
   "outputs": [],
   "source": [
    "df_general.drop(['now_dt', 'url', 'icon', 'date', 'date_ts'], axis=1, inplace=True)\n",
    "df_general.set_index('now', inplace=True)"
   ]
  },
  {
   "cell_type": "code",
   "execution_count": null,
   "metadata": {
    "ExecuteTime": {
     "end_time": "2020-11-07T13:57:26.438589Z",
     "start_time": "2020-11-07T13:57:26.415464Z"
    }
   },
   "outputs": [],
   "source": [
    "df_general"
   ]
  },
  {
   "cell_type": "markdown",
   "metadata": {},
   "source": [
    "### Прогноз"
   ]
  },
  {
   "cell_type": "code",
   "execution_count": null,
   "metadata": {
    "ExecuteTime": {
     "end_time": "2020-11-07T13:57:38.032571Z",
     "start_time": "2020-11-07T13:57:38.017690Z"
    }
   },
   "outputs": [],
   "source": [
    "df_forecast = pd.DataFrame(forecast_parts)\n",
    "df_forecast"
   ]
  },
  {
   "cell_type": "code",
   "execution_count": null,
   "metadata": {
    "ExecuteTime": {
     "end_time": "2020-11-07T13:57:39.688172Z",
     "start_time": "2020-11-07T13:57:39.671820Z"
    }
   },
   "outputs": [],
   "source": [
    "df_forecast.drop(['icon'], axis=1, inplace=True)\n",
    "df_forecast['now'] = df_general.iloc[0].name\n",
    "df_forecast"
   ]
  }
 ],
 "metadata": {
  "kernelspec": {
   "display_name": "Python 3",
   "language": "python",
   "name": "python3"
  },
  "language_info": {
   "codemirror_mode": {
    "name": "ipython",
    "version": 3
   },
   "file_extension": ".py",
   "mimetype": "text/x-python",
   "name": "python",
   "nbconvert_exporter": "python",
   "pygments_lexer": "ipython3",
   "version": "3.7.6"
  },
  "toc": {
   "base_numbering": 1,
   "nav_menu": {},
   "number_sections": true,
   "sideBar": true,
   "skip_h1_title": false,
   "title_cell": "Table of Contents",
   "title_sidebar": "Contents",
   "toc_cell": false,
   "toc_position": {},
   "toc_section_display": true,
   "toc_window_display": true
  }
 },
 "nbformat": 4,
 "nbformat_minor": 4
}
